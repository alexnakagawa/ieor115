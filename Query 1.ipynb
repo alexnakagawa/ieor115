{
 "cells": [
  {
   "cell_type": "markdown",
   "metadata": {},
   "source": [
    "# Query 1"
   ]
  },
  {
   "cell_type": "markdown",
   "metadata": {},
   "source": [
    "### Import Statements and loading CSV into Pandas"
   ]
  },
  {
   "cell_type": "code",
   "execution_count": 47,
   "metadata": {},
   "outputs": [],
   "source": [
    "import pandas as pd\n",
    "import matplotlib.pyplot as plt\n",
    "import seaborn as sns\n",
    "import numpy as np"
   ]
  },
  {
   "cell_type": "code",
   "execution_count": 30,
   "metadata": {},
   "outputs": [
    {
     "data": {
      "text/html": [
       "<div>\n",
       "<style scoped>\n",
       "    .dataframe tbody tr th:only-of-type {\n",
       "        vertical-align: middle;\n",
       "    }\n",
       "\n",
       "    .dataframe tbody tr th {\n",
       "        vertical-align: top;\n",
       "    }\n",
       "\n",
       "    .dataframe thead th {\n",
       "        text-align: right;\n",
       "    }\n",
       "</style>\n",
       "<table border=\"1\" class=\"dataframe\">\n",
       "  <thead>\n",
       "    <tr style=\"text-align: right;\">\n",
       "      <th></th>\n",
       "      <th>SchoolName</th>\n",
       "      <th>Cost</th>\n",
       "      <th>CourseID</th>\n",
       "      <th>UCBoolean</th>\n",
       "      <th>PercentStem</th>\n",
       "      <th>NumStudents</th>\n",
       "    </tr>\n",
       "  </thead>\n",
       "  <tbody>\n",
       "    <tr>\n",
       "      <th>0</th>\n",
       "      <td>New York University</td>\n",
       "      <td>6285</td>\n",
       "      <td>4123</td>\n",
       "      <td>0</td>\n",
       "      <td>0.32</td>\n",
       "      <td>51123</td>\n",
       "    </tr>\n",
       "    <tr>\n",
       "      <th>1</th>\n",
       "      <td>Ohio State University</td>\n",
       "      <td>17277</td>\n",
       "      <td>434</td>\n",
       "      <td>0</td>\n",
       "      <td>0.22</td>\n",
       "      <td>66444</td>\n",
       "    </tr>\n",
       "    <tr>\n",
       "      <th>2</th>\n",
       "      <td>San Jose City College</td>\n",
       "      <td>8000</td>\n",
       "      <td>6931</td>\n",
       "      <td>0</td>\n",
       "      <td>0.39</td>\n",
       "      <td>14385</td>\n",
       "    </tr>\n",
       "    <tr>\n",
       "      <th>3</th>\n",
       "      <td>San Jose State University</td>\n",
       "      <td>11077</td>\n",
       "      <td>234</td>\n",
       "      <td>0</td>\n",
       "      <td>0.12</td>\n",
       "      <td>32773</td>\n",
       "    </tr>\n",
       "    <tr>\n",
       "      <th>4</th>\n",
       "      <td>United States Naval Academy</td>\n",
       "      <td>5953</td>\n",
       "      <td>349</td>\n",
       "      <td>0</td>\n",
       "      <td>0.62</td>\n",
       "      <td>4526</td>\n",
       "    </tr>\n",
       "    <tr>\n",
       "      <th>5</th>\n",
       "      <td>University of California-Irvine</td>\n",
       "      <td>12539</td>\n",
       "      <td>42</td>\n",
       "      <td>1</td>\n",
       "      <td>0.43</td>\n",
       "      <td>33467</td>\n",
       "    </tr>\n",
       "  </tbody>\n",
       "</table>\n",
       "</div>"
      ],
      "text/plain": [
       "                        SchoolName   Cost  CourseID  UCBoolean  PercentStem  \\\n",
       "0              New York University   6285      4123          0         0.32   \n",
       "1            Ohio State University  17277       434          0         0.22   \n",
       "2            San Jose City College   8000      6931          0         0.39   \n",
       "3        San Jose State University  11077       234          0         0.12   \n",
       "4      United States Naval Academy   5953       349          0         0.62   \n",
       "5  University of California-Irvine  12539        42          1         0.43   \n",
       "\n",
       "   NumStudents  \n",
       "0        51123  \n",
       "1        66444  \n",
       "2        14385  \n",
       "3        32773  \n",
       "4         4526  \n",
       "5        33467  "
      ]
     },
     "execution_count": 30,
     "metadata": {},
     "output_type": "execute_result"
    }
   ],
   "source": [
    "output = pd.read_csv('SQLOutput115.csv')\n",
    "output\n"
   ]
  },
  {
   "cell_type": "markdown",
   "metadata": {},
   "source": [
    "### Fitting a multiple linear regression model using ScikitLearn"
   ]
  },
  {
   "cell_type": "code",
   "execution_count": 40,
   "metadata": {},
   "outputs": [
    {
     "data": {
      "text/plain": [
       "LinearRegression(copy_X=True, fit_intercept=True, n_jobs=1, normalize=False)"
      ]
     },
     "execution_count": 40,
     "metadata": {},
     "output_type": "execute_result"
    }
   ],
   "source": [
    "from sklearn.linear_model import LinearRegression\n",
    "model_multiple = LinearRegression()\n",
    "model_multiple.fit(X = output[['UCBoolean', 'PercentStem', 'NumStudents']], y= output['Cost'])\n"
   ]
  },
  {
   "cell_type": "code",
   "execution_count": 41,
   "metadata": {},
   "outputs": [
    {
     "data": {
      "text/plain": [
       "array([ 3.60900409e+03, -7.86628176e+03,  8.67459256e-02])"
      ]
     },
     "execution_count": 41,
     "metadata": {},
     "output_type": "execute_result"
    }
   ],
   "source": [
    "model_multiple.coef_"
   ]
  },
  {
   "cell_type": "code",
   "execution_count": 42,
   "metadata": {},
   "outputs": [
    {
     "data": {
      "text/plain": [
       "9409.371177439712"
      ]
     },
     "execution_count": 42,
     "metadata": {},
     "output_type": "execute_result"
    }
   ],
   "source": [
    "model_multiple.intercept_"
   ]
  },
  {
   "cell_type": "markdown",
   "metadata": {},
   "source": [
    "### Plot of Predicted vs. Actual cost\n",
    "(note, given the made-up data, the model is quite jagged. One way to improve this is to decrease the number of features used in the linear regression model)"
   ]
  },
  {
   "cell_type": "code",
   "execution_count": 43,
   "metadata": {},
   "outputs": [
    {
     "data": {
      "text/plain": [
       "''"
      ]
     },
     "execution_count": 43,
     "metadata": {},
     "output_type": "execute_result"
    },
    {
     "data": {
      "image/png": "[encoded data removed]",
      "text/plain": [
       "<matplotlib.figure.Figure at 0x129c03c88>"
      ]
     },
     "metadata": {
      "needs_background": "light"
     },
     "output_type": "display_data"
    }
   ],
   "source": [
    "predicted_cost = model_multiple.predict(output[['UCBoolean', 'PercentStem', 'NumStudents']])\n",
    "plt.scatter(x='NumStudents', y='Cost', data=output)\n",
    "plt.plot(output['NumStudents'],  predicted_cost, color = 'r')\n",
    "plt.xlabel(\"Number of Students\")\n",
    "plt.ylabel(\"Cost\")\n",
    ";"
   ]
  },
  {
   "cell_type": "code",
   "execution_count": 46,
   "metadata": {},
   "outputs": [
    {
     "data": {
      "text/plain": [
       "0.562002669658649"
      ]
     },
     "execution_count": 46,
     "metadata": {},
     "output_type": "execute_result"
    }
   ],
   "source": [
    "r = np.var(predicted_cost) / np.var(output['Cost'])\n",
    "r"
   ]
  },
  {
   "cell_type": "markdown",
   "metadata": {},
   "source": [
    "given the above correlation coefficient, we can see that the predicted vs. actual cost has a moderate positive correlation when using the features UCBoolean, PercentStem and NumStudents."
   ]
  },
  {
   "cell_type": "code",
   "execution_count": null,
   "metadata": {},
   "outputs": [],
   "source": []
  }
 ],
 "metadata": {
  "kernelspec": {
   "display_name": "Python 3",
   "language": "python",
   "name": "python3"
  },
  "language_info": {
   "codemirror_mode": {
    "name": "ipython",
    "version": 3
   },
   "file_extension": ".py",
   "mimetype": "text/x-python",
   "name": "python",
   "nbconvert_exporter": "python",
   "pygments_lexer": "ipython3",
   "version": "3.6.4"
  }
 },
 "nbformat": 4,
 "nbformat_minor": 2
}
